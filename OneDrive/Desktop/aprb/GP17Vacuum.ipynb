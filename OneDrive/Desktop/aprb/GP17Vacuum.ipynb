{
  "nbformat": 4,
  "nbformat_minor": 0,
  "metadata": {
    "colab": {
      "provenance": []
    },
    "kernelspec": {
      "name": "python3",
      "display_name": "Python 3"
    },
    "language_info": {
      "name": "python"
    }
  },
  "cells": [
    {
      "cell_type": "code",
      "source": [
        "import gym\n",
        "import numpy as np\n",
        "import pygame\n",
        "from vaccum import VaccumCleanerEnv"
      ],
      "metadata": {
        "id": "0jQqfVMD5pfb",
        "colab": {
          "base_uri": "https://localhost:8080/",
          "height": 403
        },
        "outputId": "e6931132-9e62-4b5f-9c4c-bc2543e3bdc9"
      },
      "execution_count": null,
      "outputs": [
        {
          "output_type": "stream",
          "name": "stderr",
          "text": [
            "/usr/local/lib/python3.10/dist-packages/ipykernel/ipkernel.py:283: DeprecationWarning: `should_run_async` will not call `transform_cell` automatically in the future. Please pass the result to `transformed_cell` argument and any exception that happen during thetransform in `preprocessing_exc_tuple` in IPython 7.17 and above.\n",
            "  and should_run_async(code)\n"
          ]
        },
        {
          "output_type": "error",
          "ename": "ModuleNotFoundError",
          "evalue": "ignored",
          "traceback": [
            "\u001b[0;31m---------------------------------------------------------------------------\u001b[0m",
            "\u001b[0;31mModuleNotFoundError\u001b[0m                       Traceback (most recent call last)",
            "\u001b[0;32m<ipython-input-7-b34f6f3491a2>\u001b[0m in \u001b[0;36m<cell line: 4>\u001b[0;34m()\u001b[0m\n\u001b[1;32m      2\u001b[0m \u001b[0;32mimport\u001b[0m \u001b[0mnumpy\u001b[0m \u001b[0;32mas\u001b[0m \u001b[0mnp\u001b[0m\u001b[0;34m\u001b[0m\u001b[0;34m\u001b[0m\u001b[0m\n\u001b[1;32m      3\u001b[0m \u001b[0;32mimport\u001b[0m \u001b[0mpygame\u001b[0m\u001b[0;34m\u001b[0m\u001b[0;34m\u001b[0m\u001b[0m\n\u001b[0;32m----> 4\u001b[0;31m \u001b[0;32mfrom\u001b[0m \u001b[0mvaccum\u001b[0m \u001b[0;32mimport\u001b[0m \u001b[0mVaccumCleanerEnv\u001b[0m\u001b[0;34m\u001b[0m\u001b[0;34m\u001b[0m\u001b[0m\n\u001b[0m",
            "\u001b[0;31mModuleNotFoundError\u001b[0m: No module named 'vaccum'",
            "",
            "\u001b[0;31m---------------------------------------------------------------------------\u001b[0;32m\nNOTE: If your import is failing due to a missing package, you can\nmanually install dependencies using either !pip or !apt.\n\nTo view examples of installing some common dependencies, click the\n\"Open Examples\" button below.\n\u001b[0;31m---------------------------------------------------------------------------\u001b[0m\n"
          ],
          "errorDetails": {
            "actions": [
              {
                "action": "open_url",
                "actionText": "Open Examples",
                "url": "/notebooks/snippets/importing_libraries.ipynb"
              }
            ]
          }
        }
      ]
    },
    {
      "cell_type": "code",
      "source": [
        "room_maze=np.array(\n",
        "    [\n",
        "        ['S','0','1','1','0','0','0','0','0','0','0'],\n",
        "        ['0','0','0','0','0','1','0','1','1','1','0'],\n",
        "        ['0','0','1','1','0','1','0','1','1','1','0'],\n",
        "        ['1','0','1','1','0','1','0','G','0','0','0'],\n",
        "        ['1','0','0','0','0','1','0','0','0','0','0']\n",
        "    ]\n",
        ")"
      ],
      "metadata": {
        "id": "YvVpolXw49OL",
        "colab": {
          "base_uri": "https://localhost:8080/"
        },
        "outputId": "0c1c8acf-2e68-4aa2-f809-1d6dd69460ec"
      },
      "execution_count": null,
      "outputs": [
        {
          "output_type": "stream",
          "name": "stderr",
          "text": [
            "/usr/local/lib/python3.10/dist-packages/ipykernel/ipkernel.py:283: DeprecationWarning: `should_run_async` will not call `transform_cell` automatically in the future. Please pass the result to `transformed_cell` argument and any exception that happen during thetransform in `preprocessing_exc_tuple` in IPython 7.17 and above.\n",
            "  and should_run_async(code)\n"
          ]
        }
      ]
    },
    {
      "cell_type": "code",
      "source": [
        "class VacEnv(gym.Env):\n",
        "  def _init_(self,grid):\n",
        "    super(VacEnv,self).__init__()\n",
        "    self.room=np.array(grid)\n",
        "    self.start=np.where(self.room=='S')\n",
        "    self.goal=np.where(self.room=='G')\n",
        "    self.action_space=spaces.Discrete(4)\n",
        "    self.rows,self.cols=self.room.shape\n",
        "    self.observation_space=spaces.Tuple(spaces.Discrete(self.rows),spaces.Discrete(self.cols))\n",
        "\n",
        "    pygame.init()\n",
        "    self.cell_size = 170\n",
        "    self.screen = pygame.display.set_mode((self.cols * self.cell_size, self.rows * self.cell_size))\n",
        "\n",
        "  def reset(self):\n",
        "        self.current=self.start\n",
        "        return self.current\n",
        "\n",
        "  def step(self,action):\n",
        "    new_pos=np.array(self.current)\n",
        "    if action==0:\n",
        "      new_pos[0]-=1\n",
        "    elif action==1:\n",
        "       new_pos[0]+=1\n",
        "    elif action==2:\n",
        "       new_pos[1]-=1\n",
        "    elif action==3:\n",
        "       new_pos[1]+=1\n",
        "    if self._is_valid_position(new_pos):\n",
        "      self.current=new_pos\n",
        "    if np.array_equal(self.current,self.goal):\n",
        "      reward=1\n",
        "      done=True\n",
        "    else:\n",
        "      reward=0\n",
        "      done=False\n",
        "    return self.current,reward,done,{}\n",
        "    def _is_valid_position(self,pos):\n",
        "      row,col=pos\n",
        "      if row<0 or col<0 or row>= self.rows or col >=self.cols:\n",
        "        return False\n",
        "      if self.room[row,col]=='1':\n",
        "       return False\n",
        "      return True\n",
        "    def render(self):\n",
        "      self.screen.fill((255, 255, 255))\n",
        "\n",
        "      for row in range(self.rows):\n",
        "          for col in range(self.cols):\n",
        "              cell_left = col * self.cell_size\n",
        "              cell_top = row * self.cell_size\n",
        "\n",
        "              try:\n",
        "                  print(np.array(self.current_pos)==np.array([row,col]).reshape(-1,1))\n",
        "              except Exception as e:\n",
        "                  print('Initial state')\n",
        "\n",
        "              if self.maze[row, col] == '1':\n",
        "                  pygame.draw.rect(self.screen, (0, 0, 0), (cell_left, cell_top, self.cell_size, self.cell_size))\n",
        "              elif self.maze[row, col] == 'S':\n",
        "                  pygame.draw.rect(self.screen, (0, 255, 0), (cell_left, cell_top, self.cell_size, self.cell_size))\n",
        "              elif self.maze[row, col] == 'G':\n",
        "                  pygame.draw.rect(self.screen, (255, 0, 0), (cell_left, cell_top, self.cell_size, self.cell_size))\n",
        "\n",
        "              if np.array_equal(np.array(self.current_pos), np.array([row, col]).reshape(-1,1)):\n",
        "                  pygame.draw.rect(self.screen, (0, 0, 255), (cell_left, cell_top, self.cell_size, self.cell_size))\n",
        "\n",
        "      pygame.display.update()"
      ]
    },
    {
      "cell_type": "code",
      "source": [
        "gym.register(\n",
        "    id='VaccumCleanerEnv',\n",
        "    entry_point='vaccum:VaccumCleanerEnv',\n",
        "    kwargs={'maze': None}\n",
        ")"
      ],
      "metadata": {
        "id": "ZDiHD9v6v2iL"
      },
      "execution_count": null,
      "outputs": []
    },
    {
      "cell_type": "code",
      "source": [
        "# Define the environment\n",
        "environment = np.array([[0, 1, 0], [1, 0, 1], [0, 1, 0]])\n",
        "\n",
        "# Define the Q-table\n",
        "q_table = np.zeros((3, 3))\n",
        "\n",
        "# Define the hyperparameters\n",
        "learning_rate = 0.1\n",
        "discount_factor = 0.9\n",
        "epsilon = 0.1\n",
        "num_episodes = 1000\n",
        "\n",
        "# Function to display the environment and vacuum cleaner position\n",
        "def display_environment(state):\n",
        "    symbols = {0: ' ', 1: 'D'}\n",
        "    for i in range(3):\n",
        "        row = ''\n",
        "        for j in range(3):\n",
        "            if i == state and environment[i][j] == 1:\n",
        "                row += 'V'\n",
        "            else:\n",
        "                row += symbols[environment[i][j]]\n",
        "        print(row)\n",
        "    print()\n",
        "\n",
        "# Create the gym environment\n",
        "env = gym.make('FrozenLake-v0')\n",
        "\n",
        "# Q-learning algorithm\n",
        "for episode in range(num_episodes):\n",
        "    state = env.reset()\n",
        "    done = False\n",
        "\n",
        "    while not done:\n",
        "        if np.random.uniform(0, 1) < epsilon:\n",
        "            action = env.action_space.sample()\n",
        "        else:\n",
        "            action = np.argmax(q_table[state])\n",
        "\n",
        "        next_state, reward, done, _ = env.step(action)\n",
        "\n",
        "        q_table[state][action] = (1 - learning_rate) * q_table[state][action] + learning_rate * (reward + discount_factor * np.max(q_table[next_state]))\n",
        "\n",
        "        state = next_state\n",
        "\n",
        "        # Print the current state of the environment\n",
        "        print(\"Episode:\", episode+1)\n",
        "        display_environment(state)\n",
        "        print(\"Action:\", action)\n",
        "        print(\"Next State:\", next_state)\n",
        "        print(\"Reward:\", reward)\n",
        "        print(\"Q-table:\")\n",
        "        print(q_table)\n",
        "        print(\"--------------------\")\n",
        "\n",
        "# Print the learned Q-table\n",
        "print(\"Learned Q-table:\")\n",
        "print(q_table)\n"
      ],
      "metadata": {
        "colab": {
          "base_uri": "https://localhost:8080/",
          "height": 425
        },
        "id": "88xE4BnR42UV",
        "outputId": "7d7470dc-c5f6-41ab-b5bd-d77c7da854f7"
      },
      "execution_count": null,
      "outputs": [
        {
          "output_type": "stream",
          "name": "stderr",
          "text": [
            "/usr/local/lib/python3.10/dist-packages/gym/envs/registration.py:593: UserWarning: \u001b[33mWARN: The environment FrozenLake-v0 is out of date. You should consider upgrading to version `v1`.\u001b[0m\n",
            "  logger.warn(\n"
          ]
        },
        {
          "output_type": "error",
          "ename": "DeprecatedEnv",
          "evalue": "ignored",
          "traceback": [
            "\u001b[0;31m---------------------------------------------------------------------------\u001b[0m",
            "\u001b[0;31mDeprecatedEnv\u001b[0m                             Traceback (most recent call last)",
            "\u001b[0;32m<ipython-input-5-c1f940997f35>\u001b[0m in \u001b[0;36m<cell line: 27>\u001b[0;34m()\u001b[0m\n\u001b[1;32m     25\u001b[0m \u001b[0;34m\u001b[0m\u001b[0m\n\u001b[1;32m     26\u001b[0m \u001b[0;31m# Create the gym environment\u001b[0m\u001b[0;34m\u001b[0m\u001b[0;34m\u001b[0m\u001b[0m\n\u001b[0;32m---> 27\u001b[0;31m \u001b[0menv\u001b[0m \u001b[0;34m=\u001b[0m \u001b[0mgym\u001b[0m\u001b[0;34m.\u001b[0m\u001b[0mmake\u001b[0m\u001b[0;34m(\u001b[0m\u001b[0;34m'FrozenLake-v0'\u001b[0m\u001b[0;34m)\u001b[0m\u001b[0;34m\u001b[0m\u001b[0;34m\u001b[0m\u001b[0m\n\u001b[0m\u001b[1;32m     28\u001b[0m \u001b[0;34m\u001b[0m\u001b[0m\n\u001b[1;32m     29\u001b[0m \u001b[0;31m# Q-learning algorithm\u001b[0m\u001b[0;34m\u001b[0m\u001b[0;34m\u001b[0m\u001b[0m\n",
            "\u001b[0;32m/usr/local/lib/python3.10/dist-packages/gym/envs/registration.py\u001b[0m in \u001b[0;36mmake\u001b[0;34m(id, max_episode_steps, autoreset, new_step_api, disable_env_checker, **kwargs)\u001b[0m\n\u001b[1;32m    605\u001b[0m \u001b[0;34m\u001b[0m\u001b[0m\n\u001b[1;32m    606\u001b[0m         \u001b[0;32mif\u001b[0m \u001b[0mspec_\u001b[0m \u001b[0;32mis\u001b[0m \u001b[0;32mNone\u001b[0m\u001b[0;34m:\u001b[0m\u001b[0;34m\u001b[0m\u001b[0;34m\u001b[0m\u001b[0m\n\u001b[0;32m--> 607\u001b[0;31m             \u001b[0m_check_version_exists\u001b[0m\u001b[0;34m(\u001b[0m\u001b[0mns\u001b[0m\u001b[0;34m,\u001b[0m \u001b[0mname\u001b[0m\u001b[0;34m,\u001b[0m \u001b[0mversion\u001b[0m\u001b[0;34m)\u001b[0m\u001b[0;34m\u001b[0m\u001b[0;34m\u001b[0m\u001b[0m\n\u001b[0m\u001b[1;32m    608\u001b[0m             \u001b[0;32mraise\u001b[0m \u001b[0merror\u001b[0m\u001b[0;34m.\u001b[0m\u001b[0mError\u001b[0m\u001b[0;34m(\u001b[0m\u001b[0;34mf\"No registered env with id: {id}\"\u001b[0m\u001b[0;34m)\u001b[0m\u001b[0;34m\u001b[0m\u001b[0;34m\u001b[0m\u001b[0m\n\u001b[1;32m    609\u001b[0m \u001b[0;34m\u001b[0m\u001b[0m\n",
            "\u001b[0;32m/usr/local/lib/python3.10/dist-packages/gym/envs/registration.py\u001b[0m in \u001b[0;36m_check_version_exists\u001b[0;34m(ns, name, version)\u001b[0m\n\u001b[1;32m    264\u001b[0m \u001b[0;34m\u001b[0m\u001b[0m\n\u001b[1;32m    265\u001b[0m     \u001b[0;32mif\u001b[0m \u001b[0mlatest_spec\u001b[0m \u001b[0;32mis\u001b[0m \u001b[0;32mnot\u001b[0m \u001b[0;32mNone\u001b[0m \u001b[0;32mand\u001b[0m \u001b[0mversion\u001b[0m \u001b[0;34m<\u001b[0m \u001b[0mlatest_spec\u001b[0m\u001b[0;34m.\u001b[0m\u001b[0mversion\u001b[0m\u001b[0;34m:\u001b[0m\u001b[0;34m\u001b[0m\u001b[0;34m\u001b[0m\u001b[0m\n\u001b[0;32m--> 266\u001b[0;31m         raise error.DeprecatedEnv(\n\u001b[0m\u001b[1;32m    267\u001b[0m             \u001b[0;34mf\"Environment version v{version} for `{get_env_id(ns, name, None)}` is deprecated. \"\u001b[0m\u001b[0;34m\u001b[0m\u001b[0;34m\u001b[0m\u001b[0m\n\u001b[1;32m    268\u001b[0m             \u001b[0;34mf\"Please use `{latest_spec.id}` instead.\"\u001b[0m\u001b[0;34m\u001b[0m\u001b[0;34m\u001b[0m\u001b[0m\n",
            "\u001b[0;31mDeprecatedEnv\u001b[0m: Environment version v0 for `FrozenLake` is deprecated. Please use `FrozenLake-v1` instead."
          ]
        }
      ]
    }
  ]
}```