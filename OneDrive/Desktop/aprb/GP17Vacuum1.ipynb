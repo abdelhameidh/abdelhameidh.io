# import the pygame library
import pygame

class VacEnv(gym.Env):
    def __init__(self):
        super(VacEnv, self).__init__()
        self.room = room_maze
        self.start = np.where(self.room == 'S')
        self.goal = np.where(self.room == 'G')
        self.action_space = spaces.Discrete(4)
        self.rows, self.cols = self.room.shape
        self.observation_space = spaces.Tuple((spaces.Discrete(self.rows), spaces.Discrete(self.cols)))

        # Initialize Pygame
        pygame.init()
        self.cell_size = 170
        self.screen = pygame.display.set_mode((self.cols * self.cell_size, self.rows * self.cell_size))

    def reset(self):
        self.current = self.start
        return self.current

    def step(self, action):
        new_pos = np.array(self.current)
        if action == 0:
            new_pos[0] -= 1
        elif action == 1:
            new_pos[0] += 1
        elif action == 2:
            new_pos[1] -= 1
        elif action == 3:
            new_pos[1] += 1
        if self._is_valid_position(new_pos):
            self.current = new_pos
        if np.array_equal(self.current, self.goal):
            reward = 1
            done = True
        else:
            reward = 0
            done = False
        return self.current, reward, done, {}

    def _is_valid_position(self, pos):
        row, col = pos
        if row < 0 or col < 0 or row >= self.rows or col >= self.cols:
            return False
        if self.room[row, col] == '1':
            return False
        return True

    def render(self):
        self.screen.fill((255, 255, 255))

        for row in range(self.rows):
            for col in range(self.cols):
                cell_left = col * self.cell_size
                cell_top = row * self.cell_size

                if self.room[row, col] == '1':
                    pygame.draw.rect(self.screen, (0, 0, 0), (cell_left, cell_top, self.cell_size, self.cell_size))
                elif self.room[row, col] == 'S':
                    pygame.draw.rect(self.screen, (0, 255, 0), (cell_left, cell_top, self.cell_size, self.cell_size))
                elif self.room[row, col] == 'G':
                    pygame.draw.rect(self.screen, (255, 0, 0), (cell_left, cell_top, self.cell_size, self.cell_size))

                if np.array_equal(np.array(self.current), np.array([row, col])):
                    pygame.draw.rect(self.screen, (0, 0, 255), (cell_left, cell_top, self.cell_size, self.cell_size))

        pygame.display.update()
