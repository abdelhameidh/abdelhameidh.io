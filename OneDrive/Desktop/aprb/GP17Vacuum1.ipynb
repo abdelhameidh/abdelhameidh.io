{
 "cells": [
  {
   "cell_type": "code",
   "execution_count": 1,
   "metadata": {
    "colab": {
     "base_uri": "https://localhost:8080/",
     "height": 403
    },
    "id": "0jQqfVMD5pfb",
    "outputId": "e6931132-9e62-4b5f-9c4c-bc2543e3bdc9"
   },
   "outputs": [
    {
     "ename": "TypeError",
     "evalue": "VacEnv() takes no arguments",
     "output_type": "error",
     "traceback": [
      "\u001b[1;31m---------------------------------------------------------------------------\u001b[0m",
      "\u001b[1;31mTypeError\u001b[0m                                 Traceback (most recent call last)",
      "Cell \u001b[1;32mIn[1], line 20\u001b[0m\n\u001b[0;32m      8\u001b[0m room_maze\u001b[38;5;241m=\u001b[39mnp\u001b[38;5;241m.\u001b[39marray(\n\u001b[0;32m      9\u001b[0m     [\n\u001b[0;32m     10\u001b[0m         [\u001b[38;5;124m'\u001b[39m\u001b[38;5;124mS\u001b[39m\u001b[38;5;124m'\u001b[39m,\u001b[38;5;124m'\u001b[39m\u001b[38;5;124m0\u001b[39m\u001b[38;5;124m'\u001b[39m,\u001b[38;5;124m'\u001b[39m\u001b[38;5;124m1\u001b[39m\u001b[38;5;124m'\u001b[39m,\u001b[38;5;124m'\u001b[39m\u001b[38;5;124m1\u001b[39m\u001b[38;5;124m'\u001b[39m,\u001b[38;5;124m'\u001b[39m\u001b[38;5;124m0\u001b[39m\u001b[38;5;124m'\u001b[39m,\u001b[38;5;124m'\u001b[39m\u001b[38;5;124m0\u001b[39m\u001b[38;5;124m'\u001b[39m,\u001b[38;5;124m'\u001b[39m\u001b[38;5;124m0\u001b[39m\u001b[38;5;124m'\u001b[39m,\u001b[38;5;124m'\u001b[39m\u001b[38;5;124m0\u001b[39m\u001b[38;5;124m'\u001b[39m,\u001b[38;5;124m'\u001b[39m\u001b[38;5;124m0\u001b[39m\u001b[38;5;124m'\u001b[39m,\u001b[38;5;124m'\u001b[39m\u001b[38;5;124m0\u001b[39m\u001b[38;5;124m'\u001b[39m,\u001b[38;5;124m'\u001b[39m\u001b[38;5;124m0\u001b[39m\u001b[38;5;124m'\u001b[39m],\n\u001b[1;32m   (...)\u001b[0m\n\u001b[0;32m     15\u001b[0m     ]\n\u001b[0;32m     16\u001b[0m )\n\u001b[0;32m     18\u001b[0m gym\u001b[38;5;241m.\u001b[39menvs\u001b[38;5;241m.\u001b[39mregister(\u001b[38;5;28mid\u001b[39m\u001b[38;5;241m=\u001b[39m\u001b[38;5;124m'\u001b[39m\u001b[38;5;124mVacEnv\u001b[39m\u001b[38;5;124m'\u001b[39m,entry_point\u001b[38;5;241m=\u001b[39m\u001b[38;5;124m'\u001b[39m\u001b[38;5;124mvaccum_env:VacEnv\u001b[39m\u001b[38;5;124m'\u001b[39m,kwargs\u001b[38;5;241m=\u001b[39m{\u001b[38;5;124m'\u001b[39m\u001b[38;5;124mgrid\u001b[39m\u001b[38;5;124m'\u001b[39m:room_maze})\n\u001b[1;32m---> 20\u001b[0m env\u001b[38;5;241m=\u001b[39m\u001b[43mgym\u001b[49m\u001b[38;5;241;43m.\u001b[39;49m\u001b[43mmake\u001b[49m\u001b[43m(\u001b[49m\u001b[38;5;124;43m'\u001b[39;49m\u001b[38;5;124;43mVacEnv\u001b[39;49m\u001b[38;5;124;43m'\u001b[39;49m\u001b[43m)\u001b[49m\n",
      "File \u001b[1;32m~\\AppData\\Roaming\\Python\\Python310\\site-packages\\gym\\envs\\registration.py:652\u001b[0m, in \u001b[0;36mmake\u001b[1;34m(id, max_episode_steps, autoreset, apply_api_compatibility, disable_env_checker, **kwargs)\u001b[0m\n\u001b[0;32m    646\u001b[0m         \u001b[38;5;28;01mraise\u001b[39;00m error\u001b[38;5;241m.\u001b[39mError(\n\u001b[0;32m    647\u001b[0m             \u001b[38;5;124mf\u001b[39m\u001b[38;5;124m\"\u001b[39m\u001b[38;5;124mYou passed render_mode=\u001b[39m\u001b[38;5;124m'\u001b[39m\u001b[38;5;124mhuman\u001b[39m\u001b[38;5;124m'\u001b[39m\u001b[38;5;124m although \u001b[39m\u001b[38;5;132;01m{\u001b[39;00m\u001b[38;5;28mid\u001b[39m\u001b[38;5;132;01m}\u001b[39;00m\u001b[38;5;124m doesn\u001b[39m\u001b[38;5;124m'\u001b[39m\u001b[38;5;124mt implement human-rendering natively. \u001b[39m\u001b[38;5;124m\"\u001b[39m\n\u001b[0;32m    648\u001b[0m             \u001b[38;5;124m\"\u001b[39m\u001b[38;5;124mGym tried to apply the HumanRendering wrapper but it looks like your environment is using the old \u001b[39m\u001b[38;5;124m\"\u001b[39m\n\u001b[0;32m    649\u001b[0m             \u001b[38;5;124m\"\u001b[39m\u001b[38;5;124mrendering API, which is not supported by the HumanRendering wrapper.\u001b[39m\u001b[38;5;124m\"\u001b[39m\n\u001b[0;32m    650\u001b[0m         )\n\u001b[0;32m    651\u001b[0m     \u001b[38;5;28;01melse\u001b[39;00m:\n\u001b[1;32m--> 652\u001b[0m         \u001b[38;5;28;01mraise\u001b[39;00m e\n\u001b[0;32m    654\u001b[0m \u001b[38;5;66;03m# Copies the environment creation specification and kwargs to add to the environment specification details\u001b[39;00m\n\u001b[0;32m    655\u001b[0m spec_ \u001b[38;5;241m=\u001b[39m copy\u001b[38;5;241m.\u001b[39mdeepcopy(spec_)\n",
      "File \u001b[1;32m~\\AppData\\Roaming\\Python\\Python310\\site-packages\\gym\\envs\\registration.py:640\u001b[0m, in \u001b[0;36mmake\u001b[1;34m(id, max_episode_steps, autoreset, apply_api_compatibility, disable_env_checker, **kwargs)\u001b[0m\n\u001b[0;32m    637\u001b[0m     render_mode \u001b[38;5;241m=\u001b[39m \u001b[38;5;28;01mNone\u001b[39;00m\n\u001b[0;32m    639\u001b[0m \u001b[38;5;28;01mtry\u001b[39;00m:\n\u001b[1;32m--> 640\u001b[0m     env \u001b[38;5;241m=\u001b[39m env_creator(\u001b[38;5;241m*\u001b[39m\u001b[38;5;241m*\u001b[39m_kwargs)\n\u001b[0;32m    641\u001b[0m \u001b[38;5;28;01mexcept\u001b[39;00m \u001b[38;5;167;01mTypeError\u001b[39;00m \u001b[38;5;28;01mas\u001b[39;00m e:\n\u001b[0;32m    642\u001b[0m     \u001b[38;5;28;01mif\u001b[39;00m (\n\u001b[0;32m    643\u001b[0m         \u001b[38;5;28mstr\u001b[39m(e)\u001b[38;5;241m.\u001b[39mfind(\u001b[38;5;124m\"\u001b[39m\u001b[38;5;124mgot an unexpected keyword argument \u001b[39m\u001b[38;5;124m'\u001b[39m\u001b[38;5;124mrender_mode\u001b[39m\u001b[38;5;124m'\u001b[39m\u001b[38;5;124m\"\u001b[39m) \u001b[38;5;241m>\u001b[39m\u001b[38;5;241m=\u001b[39m \u001b[38;5;241m0\u001b[39m\n\u001b[0;32m    644\u001b[0m         \u001b[38;5;129;01mand\u001b[39;00m apply_human_rendering\n\u001b[0;32m    645\u001b[0m     ):\n",
      "\u001b[1;31mTypeError\u001b[0m: VacEnv() takes no arguments"
     ]
    }
   ],
   "source": [
    "# import gymnasium as gym\n",
    "import gym\n",
    "import numpy as np\n",
    "import pygame\n",
    "from gym import spaces\n",
    "from vaccum_env import VacEnv\n",
    "\n",
    "room_maze=np.array(\n",
    "    [\n",
    "        ['S','0','1','1','0','0','0','0','0','0','0'],\n",
    "        ['0','0','0','0','0','1','0','1','1','1','0'],\n",
    "        ['0','0','1','1','0','1','0','1','1','1','0'],\n",
    "        ['1','0','1','1','0','1','0','G','0','0','0'],\n",
    "        ['1','0','0','0','0','1','0','0','0','0','0']\n",
    "    ]\n",
    ")\n",
    "\n",
    "gym.envs.register(id='VacEnv',entry_point='vaccum_env:VacEnv',kwargs={'grid':room_maze})\n",
    "\n",
    "env=gym.make('VacEnv')"
   ]
  },
  {
   "cell_type": "code",
   "execution_count": 3,
   "metadata": {
    "id": "FzwniPsv4LD9"
   },
   "outputs": [],
   "source": [
    "class VacEnv(gym.Env):\n",
    "  def _init_(self):\n",
    "    super(VacEnv,self).__init__()\n",
    "    self.room=room_maze\n",
    "    self.start=np.where(self.room=='S')\n",
    "    self.goal=np.where(self.room=='G')\n",
    "    self.action_space=spaces.Discrete(4)\n",
    "    self.rows,self.cols=self.room.shape\n",
    "    self.observation_space=spaces.Tuple(spaces.Discrete(self.rows),spaces.Discrete(self.cols))\n",
    "\n",
    "    pygame.init()\n",
    "    self.cell_size = 170\n",
    "    self.screen = pygame.display.set_mode((self.cols * self.cell_size, self.rows * self.cell_size))\n",
    "\n",
    "    def reset(self):\n",
    "        self.current=self.start\n",
    "        return self.current\n",
    "\n",
    "  def step(self,action):\n",
    "    new_pos=np.array(self.current)\n",
    "    if action==0:\n",
    "      new_pos[0]-=1\n",
    "    elif action==1:\n",
    "       new_pos[0]+=1\n",
    "    elif action==2:\n",
    "       new_pos[1]-=1\n",
    "    elif action==3:\n",
    "       new_pos[1]+=1\n",
    "    if self._is_valid_position(new_pos):\n",
    "      self.current=new_pos\n",
    "    if np.array_equal(self.current,self.goal):\n",
    "      reward=1\n",
    "      done=True\n",
    "    else:\n",
    "      reward=0\n",
    "      done=False\n",
    "    return self.current,reward,done,{}\n",
    "    def _is_valid_position(self,pos):\n",
    "      row,col=pos\n",
    "      if row<0 or col<0 or row>= self.rows or col >=self.cols:\n",
    "        return False\n",
    "      if self.room[row,col]=='1':\n",
    "       return False\n",
    "      return True\n",
    "    def render(self):\n",
    "      self.screen.fill((255, 255, 255))\n",
    "\n",
    "      for row in range(self.rows):\n",
    "          for col in range(self.cols):\n",
    "              cell_left = col * self.cell_size\n",
    "              cell_top = row * self.cell_size\n",
    "\n",
    "              try:\n",
    "                  print(np.array(self.current_pos)==np.array([row,col]).reshape(-1,1))\n",
    "              except Exception as e:\n",
    "                  print('Initial state')\n",
    "\n",
    "              if self.maze[row, col] == '1':\n",
    "                  pygame.draw.rect(self.screen, (0, 0, 0), (cell_left, cell_top, self.cell_size, self.cell_size))\n",
    "              elif self.maze[row, col] == 'S':\n",
    "                  pygame.draw.rect(self.screen, (0, 255, 0), (cell_left, cell_top, self.cell_size, self.cell_size))\n",
    "              elif self.maze[row, col] == 'G':\n",
    "                  pygame.draw.rect(self.screen, (255, 0, 0), (cell_left, cell_top, self.cell_size, self.cell_size))\n",
    "\n",
    "              if np.array_equal(np.array(self.current_pos), np.array([row, col]).reshape(-1,1)):\n",
    "                  pygame.draw.rect(self.screen, (0, 0, 255), (cell_left, cell_top, self.cell_size, self.cell_size))\n",
    "\n",
    "      pygame.display.update()"
   ]
  },
  {
   "cell_type": "code",
   "execution_count": null,
   "metadata": {
    "colab": {
     "base_uri": "https://localhost:8080/",
     "height": 425
    },
    "id": "88xE4BnR42UV",
    "outputId": "7d7470dc-c5f6-41ab-b5bd-d77c7da854f7"
   },
   "outputs": [
    {
     "name": "stderr",
     "output_type": "stream",
     "text": [
      "/usr/local/lib/python3.10/dist-packages/gym/envs/registration.py:593: UserWarning: \u001b[33mWARN: The environment FrozenLake-v0 is out of date. You should consider upgrading to version `v1`.\u001b[0m\n",
      "  logger.warn(\n"
     ]
    },
    {
     "ename": "DeprecatedEnv",
     "evalue": "ignored",
     "output_type": "error",
     "traceback": [
      "\u001b[0;31m---------------------------------------------------------------------------\u001b[0m",
      "\u001b[0;31mDeprecatedEnv\u001b[0m                             Traceback (most recent call last)",
      "\u001b[0;32m<ipython-input-5-c1f940997f35>\u001b[0m in \u001b[0;36m<cell line: 27>\u001b[0;34m()\u001b[0m\n\u001b[1;32m     25\u001b[0m \u001b[0;34m\u001b[0m\u001b[0m\n\u001b[1;32m     26\u001b[0m \u001b[0;31m# Create the gym environment\u001b[0m\u001b[0;34m\u001b[0m\u001b[0;34m\u001b[0m\u001b[0m\n\u001b[0;32m---> 27\u001b[0;31m \u001b[0menv\u001b[0m \u001b[0;34m=\u001b[0m \u001b[0mgym\u001b[0m\u001b[0;34m.\u001b[0m\u001b[0mmake\u001b[0m\u001b[0;34m(\u001b[0m\u001b[0;34m'FrozenLake-v0'\u001b[0m\u001b[0;34m)\u001b[0m\u001b[0;34m\u001b[0m\u001b[0;34m\u001b[0m\u001b[0m\n\u001b[0m\u001b[1;32m     28\u001b[0m \u001b[0;34m\u001b[0m\u001b[0m\n\u001b[1;32m     29\u001b[0m \u001b[0;31m# Q-learning algorithm\u001b[0m\u001b[0;34m\u001b[0m\u001b[0;34m\u001b[0m\u001b[0m\n",
      "\u001b[0;32m/usr/local/lib/python3.10/dist-packages/gym/envs/registration.py\u001b[0m in \u001b[0;36mmake\u001b[0;34m(id, max_episode_steps, autoreset, new_step_api, disable_env_checker, **kwargs)\u001b[0m\n\u001b[1;32m    605\u001b[0m \u001b[0;34m\u001b[0m\u001b[0m\n\u001b[1;32m    606\u001b[0m         \u001b[0;32mif\u001b[0m \u001b[0mspec_\u001b[0m \u001b[0;32mis\u001b[0m \u001b[0;32mNone\u001b[0m\u001b[0;34m:\u001b[0m\u001b[0;34m\u001b[0m\u001b[0;34m\u001b[0m\u001b[0m\n\u001b[0;32m--> 607\u001b[0;31m             \u001b[0m_check_version_exists\u001b[0m\u001b[0;34m(\u001b[0m\u001b[0mns\u001b[0m\u001b[0;34m,\u001b[0m \u001b[0mname\u001b[0m\u001b[0;34m,\u001b[0m \u001b[0mversion\u001b[0m\u001b[0;34m)\u001b[0m\u001b[0;34m\u001b[0m\u001b[0;34m\u001b[0m\u001b[0m\n\u001b[0m\u001b[1;32m    608\u001b[0m             \u001b[0;32mraise\u001b[0m \u001b[0merror\u001b[0m\u001b[0;34m.\u001b[0m\u001b[0mError\u001b[0m\u001b[0;34m(\u001b[0m\u001b[0;34mf\"No registered env with id: {id}\"\u001b[0m\u001b[0;34m)\u001b[0m\u001b[0;34m\u001b[0m\u001b[0;34m\u001b[0m\u001b[0m\n\u001b[1;32m    609\u001b[0m \u001b[0;34m\u001b[0m\u001b[0m\n",
      "\u001b[0;32m/usr/local/lib/python3.10/dist-packages/gym/envs/registration.py\u001b[0m in \u001b[0;36m_check_version_exists\u001b[0;34m(ns, name, version)\u001b[0m\n\u001b[1;32m    264\u001b[0m \u001b[0;34m\u001b[0m\u001b[0m\n\u001b[1;32m    265\u001b[0m     \u001b[0;32mif\u001b[0m \u001b[0mlatest_spec\u001b[0m \u001b[0;32mis\u001b[0m \u001b[0;32mnot\u001b[0m \u001b[0;32mNone\u001b[0m \u001b[0;32mand\u001b[0m \u001b[0mversion\u001b[0m \u001b[0;34m<\u001b[0m \u001b[0mlatest_spec\u001b[0m\u001b[0;34m.\u001b[0m\u001b[0mversion\u001b[0m\u001b[0;34m:\u001b[0m\u001b[0;34m\u001b[0m\u001b[0;34m\u001b[0m\u001b[0m\n\u001b[0;32m--> 266\u001b[0;31m         raise error.DeprecatedEnv(\n\u001b[0m\u001b[1;32m    267\u001b[0m             \u001b[0;34mf\"Environment version v{version} for `{get_env_id(ns, name, None)}` is deprecated. \"\u001b[0m\u001b[0;34m\u001b[0m\u001b[0;34m\u001b[0m\u001b[0m\n\u001b[1;32m    268\u001b[0m             \u001b[0;34mf\"Please use `{latest_spec.id}` instead.\"\u001b[0m\u001b[0;34m\u001b[0m\u001b[0;34m\u001b[0m\u001b[0m\n",
      "\u001b[0;31mDeprecatedEnv\u001b[0m: Environment version v0 for `FrozenLake` is deprecated. Please use `FrozenLake-v1` instead."
     ]
    }
   ],
   "source": [
    "# Define the environment\n",
    "environment = np.array([[0, 1, 0], [1, 0, 1], [0, 1, 0]])\n",
    "\n",
    "# Define the Q-table\n",
    "q_table = np.zeros((3, 3))\n",
    "\n",
    "# Define the hyperparameters\n",
    "learning_rate = 0.1\n",
    "discount_factor = 0.9\n",
    "epsilon = 0.1\n",
    "num_episodes = 1000\n",
    "\n",
    "# Function to display the environment and vacuum cleaner position\n",
    "def display_environment(state):\n",
    "    symbols = {0: ' ', 1: 'D'}\n",
    "    for i in range(3):\n",
    "        row = ''\n",
    "        for j in range(3):\n",
    "            if i == state and environment[i][j] == 1:\n",
    "                row += 'V'\n",
    "            else:\n",
    "                row += symbols[environment[i][j]]\n",
    "        print(row)\n",
    "    print()\n",
    "\n",
    "# Create the gym environment\n",
    "env = gym.make('FrozenLake-v0')\n",
    "\n",
    "# Q-learning algorithm\n",
    "for episode in range(num_episodes):\n",
    "    state = env.reset()\n",
    "    done = False\n",
    "\n",
    "    while not done:\n",
    "        if np.random.uniform(0, 1) < epsilon:\n",
    "            action = env.action_space.sample()\n",
    "        else:\n",
    "            action = np.argmax(q_table[state])\n",
    "\n",
    "        next_state, reward, done, _ = env.step(action)\n",
    "\n",
    "        q_table[state][action] = (1 - learning_rate) * q_table[state][action] + learning_rate * (reward + discount_factor * np.max(q_table[next_state]))\n",
    "\n",
    "        state = next_state\n",
    "\n",
    "        # Print the current state of the environment\n",
    "        print(\"Episode:\", episode+1)\n",
    "        display_environment(state)\n",
    "        print(\"Action:\", action)\n",
    "        print(\"Next State:\", next_state)\n",
    "        print(\"Reward:\", reward)\n",
    "        print(\"Q-table:\")\n",
    "        print(q_table)\n",
    "        print(\"--------------------\")\n",
    "\n",
    "# Print the learned Q-table\n",
    "print(\"Learned Q-table:\")\n",
    "print(q_table)\n"
   ]
  }
 ],
 "metadata": {
  "colab": {
   "provenance": []
  },
  "kernelspec": {
   "display_name": "Python 3 (ipykernel)",
   "language": "python",
   "name": "python3"
  },
  "language_info": {
   "codemirror_mode": {
    "name": "ipython",
    "version": 3
   },
   "file_extension": ".py",
   "mimetype": "text/x-python",
   "name": "python",
   "nbconvert_exporter": "python",
   "pygments_lexer": "ipython3",
   "version": "3.10.9"
  }
 },
 "nbformat": 4,
 "nbformat_minor": 1
}
